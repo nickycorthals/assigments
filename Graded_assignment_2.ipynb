{
 "cells": [
  {
   "cell_type": "markdown",
   "metadata": {},
   "source": [
    "# Graded Assignment 2\n",
    "Mark Klik & Misja Mikkers\n",
    "\n",
    "# Packages\n",
    "\n",
    "# Assignment 1\n",
    "\n",
    "First load the `tidyverse` package:"
   ]
  },
  {
   "cell_type": "code",
   "execution_count": 1,
   "metadata": {},
   "outputs": [
    {
     "name": "stderr",
     "output_type": "stream",
     "text": [
      "-- Attaching packages --------------------------------------- tidyverse 1.2.1 --\n",
      "v ggplot2 2.2.1     v purrr   0.2.4\n",
      "v tibble  1.4.1     v dplyr   0.7.4\n",
      "v tidyr   0.7.2     v stringr 1.2.0\n",
      "v readr   1.1.1     v forcats 0.2.0\n",
      "-- Conflicts ------------------------------------------ tidyverse_conflicts() --\n",
      "x dplyr::filter() masks stats::filter()\n",
      "x dplyr::lag()    masks stats::lag()\n"
     ]
    }
   ],
   "source": [
    "library(tidyverse)"
   ]
  },
  {
   "cell_type": "markdown",
   "metadata": {},
   "source": [
    "##  Assignment 1a\n",
    "\n",
    "Read the data file _graded_assignment_2.csv_ from disk:"
   ]
  },
  {
   "cell_type": "code",
   "execution_count": 6,
   "metadata": {},
   "outputs": [
    {
     "data": {
      "text/html": [
       "<table>\n",
       "<thead><tr><th scope=col>ID</th><th scope=col>Group</th><th scope=col>FKG</th><th scope=col>DKG</th><th scope=col>Gender</th><th scope=col>Elderly</th><th scope=col>Age</th></tr></thead>\n",
       "<tbody>\n",
       "\t<tr><td>1     </td><td>14    </td><td>0     </td><td>0     </td><td>male  </td><td>65+   </td><td>65-69 </td></tr>\n",
       "\t<tr><td>2     </td><td>39    </td><td>1     </td><td>0     </td><td>female</td><td>65+   </td><td>90-94 </td></tr>\n",
       "\t<tr><td>3     </td><td>16    </td><td>1     </td><td>0     </td><td>male  </td><td>65+   </td><td>75-79 </td></tr>\n",
       "\t<tr><td>4     </td><td> 7    </td><td>0     </td><td>1     </td><td>male  </td><td>65-   </td><td>30-34 </td></tr>\n",
       "\t<tr><td>5     </td><td> 3    </td><td>0     </td><td>0     </td><td>male  </td><td>65-   </td><td>10-14 </td></tr>\n",
       "\t<tr><td>6     </td><td>30    </td><td>0     </td><td>0     </td><td>female</td><td>65-   </td><td>45-49 </td></tr>\n",
       "</tbody>\n",
       "</table>\n"
      ],
      "text/latex": [
       "\\begin{tabular}{r|lllllll}\n",
       " ID & Group & FKG & DKG & Gender & Elderly & Age\\\\\n",
       "\\hline\n",
       "\t 1      & 14     & 0      & 0      & male   & 65+    & 65-69 \\\\\n",
       "\t 2      & 39     & 1      & 0      & female & 65+    & 90-94 \\\\\n",
       "\t 3      & 16     & 1      & 0      & male   & 65+    & 75-79 \\\\\n",
       "\t 4      &  7     & 0      & 1      & male   & 65-    & 30-34 \\\\\n",
       "\t 5      &  3     & 0      & 0      & male   & 65-    & 10-14 \\\\\n",
       "\t 6      & 30     & 0      & 0      & female & 65-    & 45-49 \\\\\n",
       "\\end{tabular}\n"
      ],
      "text/markdown": [
       "\n",
       "ID | Group | FKG | DKG | Gender | Elderly | Age | \n",
       "|---|---|---|---|---|---|\n",
       "| 1      | 14     | 0      | 0      | male   | 65+    | 65-69  | \n",
       "| 2      | 39     | 1      | 0      | female | 65+    | 90-94  | \n",
       "| 3      | 16     | 1      | 0      | male   | 65+    | 75-79  | \n",
       "| 4      |  7     | 0      | 1      | male   | 65-    | 30-34  | \n",
       "| 5      |  3     | 0      | 0      | male   | 65-    | 10-14  | \n",
       "| 6      | 30     | 0      | 0      | female | 65-    | 45-49  | \n",
       "\n",
       "\n"
      ],
      "text/plain": [
       "  ID Group FKG DKG Gender Elderly Age  \n",
       "1 1  14    0   0   male   65+     65-69\n",
       "2 2  39    1   0   female 65+     90-94\n",
       "3 3  16    1   0   male   65+     75-79\n",
       "4 4   7    0   1   male   65-     30-34\n",
       "5 5   3    0   0   male   65-     10-14\n",
       "6 6  30    0   0   female 65-     45-49"
      ]
     },
     "metadata": {},
     "output_type": "display_data"
    }
   ],
   "source": [
    "data1 <- read.csv2(\"graded_assignment_2.csv\", header=TRUE, sep=\";\")\n",
    "head(data1)"
   ]
  },
  {
   "cell_type": "markdown",
   "metadata": {},
   "source": [
    "## Assignment 1b\n",
    "\n",
    "Add column \"Health_status\" with containing values _1_ (Healthy) and _0_ (Unhealthy).\n",
    "A person is Healthy, when `FKG` equals 0 and `DKG` equals 0.\n",
    "\n",
    "So\n",
    "\n",
    "| FKG | DKG | Health_status   |\n",
    "|-----|-----|--------------   |\n",
    "| 0   | 0   | 1               |\n",
    "| 1   | 0   | 0               |\n",
    "| 0   | 1   | 0               |\n",
    "| 1   | 1   | 0               |\n",
    "\n",
    "Hint: you can use `ifelse()`:"
   ]
  },
  {
   "cell_type": "code",
   "execution_count": 9,
   "metadata": {},
   "outputs": [
    {
     "data": {
      "text/html": [
       "<table>\n",
       "<thead><tr><th scope=col>ID</th><th scope=col>Group</th><th scope=col>FKG</th><th scope=col>DKG</th><th scope=col>Gender</th><th scope=col>Elderly</th><th scope=col>Age</th><th scope=col>Health_status</th></tr></thead>\n",
       "<tbody>\n",
       "\t<tr><td>1     </td><td>14    </td><td>0     </td><td>0     </td><td>male  </td><td>65+   </td><td>65-69 </td><td>1     </td></tr>\n",
       "\t<tr><td>2     </td><td>39    </td><td>1     </td><td>0     </td><td>female</td><td>65+   </td><td>90-94 </td><td>0     </td></tr>\n",
       "\t<tr><td>3     </td><td>16    </td><td>1     </td><td>0     </td><td>male  </td><td>65+   </td><td>75-79 </td><td>0     </td></tr>\n",
       "\t<tr><td>4     </td><td> 7    </td><td>0     </td><td>1     </td><td>male  </td><td>65-   </td><td>30-34 </td><td>0     </td></tr>\n",
       "\t<tr><td>5     </td><td> 3    </td><td>0     </td><td>0     </td><td>male  </td><td>65-   </td><td>10-14 </td><td>1     </td></tr>\n",
       "\t<tr><td>6     </td><td>30    </td><td>0     </td><td>0     </td><td>female</td><td>65-   </td><td>45-49 </td><td>1     </td></tr>\n",
       "</tbody>\n",
       "</table>\n"
      ],
      "text/latex": [
       "\\begin{tabular}{r|llllllll}\n",
       " ID & Group & FKG & DKG & Gender & Elderly & Age & Health\\_status\\\\\n",
       "\\hline\n",
       "\t 1      & 14     & 0      & 0      & male   & 65+    & 65-69  & 1     \\\\\n",
       "\t 2      & 39     & 1      & 0      & female & 65+    & 90-94  & 0     \\\\\n",
       "\t 3      & 16     & 1      & 0      & male   & 65+    & 75-79  & 0     \\\\\n",
       "\t 4      &  7     & 0      & 1      & male   & 65-    & 30-34  & 0     \\\\\n",
       "\t 5      &  3     & 0      & 0      & male   & 65-    & 10-14  & 1     \\\\\n",
       "\t 6      & 30     & 0      & 0      & female & 65-    & 45-49  & 1     \\\\\n",
       "\\end{tabular}\n"
      ],
      "text/markdown": [
       "\n",
       "ID | Group | FKG | DKG | Gender | Elderly | Age | Health_status | \n",
       "|---|---|---|---|---|---|\n",
       "| 1      | 14     | 0      | 0      | male   | 65+    | 65-69  | 1      | \n",
       "| 2      | 39     | 1      | 0      | female | 65+    | 90-94  | 0      | \n",
       "| 3      | 16     | 1      | 0      | male   | 65+    | 75-79  | 0      | \n",
       "| 4      |  7     | 0      | 1      | male   | 65-    | 30-34  | 0      | \n",
       "| 5      |  3     | 0      | 0      | male   | 65-    | 10-14  | 1      | \n",
       "| 6      | 30     | 0      | 0      | female | 65-    | 45-49  | 1      | \n",
       "\n",
       "\n"
      ],
      "text/plain": [
       "  ID Group FKG DKG Gender Elderly Age   Health_status\n",
       "1 1  14    0   0   male   65+     65-69 1            \n",
       "2 2  39    1   0   female 65+     90-94 0            \n",
       "3 3  16    1   0   male   65+     75-79 0            \n",
       "4 4   7    0   1   male   65-     30-34 0            \n",
       "5 5   3    0   0   male   65-     10-14 1            \n",
       "6 6  30    0   0   female 65-     45-49 1            "
      ]
     },
     "metadata": {},
     "output_type": "display_data"
    }
   ],
   "source": [
    "data2 <- data1 %>%\n",
    "  mutate(Health_status = ifelse(\n",
    "  (FKG == 1 & DKG == 1) | (FKG == 0 & DKG == 1) | (FKG == 1 & DKG == 0) , \"0\", \"1\"))\n",
    "head(data2)"
   ]
  },
  {
   "cell_type": "markdown",
   "metadata": {},
   "source": [
    "In the next datacamp course you will learn more about the package `dplyr`. For now we just give you some code. You can run the following script.\n",
    "\n",
    "First, we want to make \"Health_status\" a factor instead of a character"
   ]
  },
  {
   "cell_type": "code",
   "execution_count": 8,
   "metadata": {},
   "outputs": [
    {
     "name": "stdout",
     "output_type": "stream",
     "text": [
      "'data.frame':\t10000 obs. of  8 variables:\n",
      " $ ID           : int  1 2 3 4 5 6 7 8 9 10 ...\n",
      " $ Group        : int  14 39 16 7 3 30 37 5 13 40 ...\n",
      " $ FKG          : int  0 1 1 0 0 0 0 0 1 1 ...\n",
      " $ DKG          : int  0 0 0 1 0 0 0 1 0 0 ...\n",
      " $ Gender       : Factor w/ 2 levels \"female\",\"male\": 2 1 2 2 2 1 1 2 2 1 ...\n",
      " $ Elderly      : Factor w/ 2 levels \"65-\",\"65+\": 2 2 2 1 1 1 2 1 1 2 ...\n",
      " $ Age          : Factor w/ 20 levels \"0-4\",\"10-14\",..: 14 19 16 6 2 9 17 4 13 20 ...\n",
      " $ Health_status: num  1 0 0 0 1 1 1 0 0 0 ...\n"
     ]
    }
   ],
   "source": [
    "data2 <- data2 %>%\n",
    "  mutate(Health_status = as.numeric(Health_status))\n",
    "str(data2)"
   ]
  },
  {
   "cell_type": "markdown",
   "metadata": {},
   "source": [
    "Then, we want to count the number of healthy and unhealthy males and females"
   ]
  },
  {
   "cell_type": "code",
   "execution_count": 10,
   "metadata": {},
   "outputs": [
    {
     "data": {
      "text/html": [
       "<table>\n",
       "<thead><tr><th scope=col>Gender</th><th scope=col>Health_status</th><th scope=col>Count_observations</th></tr></thead>\n",
       "<tbody>\n",
       "\t<tr><td>female</td><td>0     </td><td>3796  </td></tr>\n",
       "\t<tr><td>female</td><td>1     </td><td>1214  </td></tr>\n",
       "\t<tr><td>male  </td><td>0     </td><td>3731  </td></tr>\n",
       "\t<tr><td>male  </td><td>1     </td><td>1259  </td></tr>\n",
       "</tbody>\n",
       "</table>\n"
      ],
      "text/latex": [
       "\\begin{tabular}{r|lll}\n",
       " Gender & Health\\_status & Count\\_observations\\\\\n",
       "\\hline\n",
       "\t female & 0      & 3796  \\\\\n",
       "\t female & 1      & 1214  \\\\\n",
       "\t male   & 0      & 3731  \\\\\n",
       "\t male   & 1      & 1259  \\\\\n",
       "\\end{tabular}\n"
      ],
      "text/markdown": [
       "\n",
       "Gender | Health_status | Count_observations | \n",
       "|---|---|---|---|\n",
       "| female | 0      | 3796   | \n",
       "| female | 1      | 1214   | \n",
       "| male   | 0      | 3731   | \n",
       "| male   | 1      | 1259   | \n",
       "\n",
       "\n"
      ],
      "text/plain": [
       "  Gender Health_status Count_observations\n",
       "1 female 0             3796              \n",
       "2 female 1             1214              \n",
       "3 male   0             3731              \n",
       "4 male   1             1259              "
      ]
     },
     "metadata": {},
     "output_type": "display_data"
    }
   ],
   "source": [
    "data3 <- data2 %>%\n",
    "  group_by(Gender, Health_status) %>%\n",
    " summarise(Count_observations = n()) %>%\n",
    "  mutate(Health_status=as.factor(Health_status))\n",
    "\n",
    "data3"
   ]
  },
  {
   "cell_type": "markdown",
   "metadata": {},
   "source": [
    "## Assignment 2\n",
    "\n",
    "Recreate with the dataframe \"data3\" the following barchart ![](../Sourcedata/barchart.png)\n",
    "\n",
    "* Hint: see for changing the [legends and colors](http://www.cookbook-r.com/Graphs/Legends_(ggplot2)/)\n",
    "* Hint: the \"green\" color is in fact the color \"greenyellow\"\n",
    "* Hint: see for the [themes](http://ggplot2.tidyverse.org/reference/ggtheme.html): \n",
    "\n"
   ]
  },
  {
   "cell_type": "code",
   "execution_count": 13,
   "metadata": {},
   "outputs": [],
   "source": [
    "plot_data3 <- ggplot(data3, aes(x = Gender, y = Count_observations, fill = Health_status))"
   ]
  },
  {
   "cell_type": "code",
   "execution_count": 14,
   "metadata": {},
   "outputs": [
    {
     "data": {},
     "metadata": {},
     "output_type": "display_data"
    },
    {
     "data": {
      "image/png": "[encoded data removed]",
      "text/plain": [
       "plot without title"
      ]
     },
     "metadata": {},
     "output_type": "display_data"
    }
   ],
   "source": [
    "val = c(\"red1\", \"greenyellow\")\n",
    "lab = c(\"Unhealthy\", \"Healthy\")\n",
    "plot_data3 + \n",
    "    geom_col(position = \"dodge\") +\n",
    "    scale_x_discrete(\"Gender\") +\n",
    "    scale_y_continuous(\"Number\") +\n",
    "    scale_fill_manual(\"Health Status\",\n",
    "                     values = val,\n",
    "                     labels = lab)"
   ]
  },
  {
   "cell_type": "markdown",
   "metadata": {},
   "source": [
    "End notebook"
   ]
  }
 ],
 "metadata": {
  "anaconda-cloud": {},
  "kernelspec": {
   "display_name": "R",
   "language": "R",
   "name": "ir"
  },
  "language_info": {
   "codemirror_mode": "r",
   "file_extension": ".r",
   "mimetype": "text/x-r-source",
   "name": "R",
   "pygments_lexer": "r",
   "version": "3.4.3"
  }
 },
 "nbformat": 4,
 "nbformat_minor": 1
}
